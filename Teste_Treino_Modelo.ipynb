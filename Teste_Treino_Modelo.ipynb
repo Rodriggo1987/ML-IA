{
  "nbformat": 4,
  "nbformat_minor": 0,
  "metadata": {
    "colab": {
      "provenance": [],
      "authorship_tag": "ABX9TyPJplccqlr/S4VuzetDojkd",
      "include_colab_link": true
    },
    "kernelspec": {
      "name": "python3",
      "display_name": "Python 3"
    },
    "language_info": {
      "name": "python"
    }
  },
  "cells": [
    {
      "cell_type": "markdown",
      "metadata": {
        "id": "view-in-github",
        "colab_type": "text"
      },
      "source": [
        "<a href=\"https://colab.research.google.com/github/Rodriggo1987/ML-IA/blob/main/Teste_Treino_Modelo.ipynb\" target=\"_parent\"><img src=\"https://colab.research.google.com/assets/colab-badge.svg\" alt=\"Open In Colab\"/></a>"
      ]
    },
    {
      "cell_type": "markdown",
      "source": [
        "# Treino e Teste de Modelo de Classificação\n",
        "\n",
        "> Adicionar aspas\n",
        "\n"
      ],
      "metadata": {
        "id": "ybCrxn25avuU"
      }
    },
    {
      "cell_type": "code",
      "source": [
        "# 1 -> porco\n",
        "# 0 -> cachorro\n",
        "# features [1=sim,  0=não ]\n",
        "# pelo longo ?\n",
        "# perna curta ?\n",
        "# Faz Auau ?\n",
        "\n",
        "porco1 = [0, 1, 0]   #Pelo longo | perna longa | faz auau\n",
        "porco2 = [0, 1, 1]     # \"\"\n",
        "porco3 = [1, 1, 0]     # \"\"\n",
        "\n",
        "cachorro1 = [0, 1, 1]\n",
        "cachorro2 = [1, 0, 1]\n",
        "cachorro3 = [1, 1, 1]\n",
        "\n",
        "\n",
        "dados = [porco1, porco2, porco3, cachorro1, cachorro2, cachorro3]\n",
        "classes = [1, 1, 1, 0, 0, 0]"
      ],
      "metadata": {
        "id": "yb9d-168K7u5"
      },
      "execution_count": null,
      "outputs": []
    },
    {
      "cell_type": "markdown",
      "source": [
        "## **Utilizamos o modelo LinearSVC do scikit-learn para treinar com os dados fornecidos.**"
      ],
      "metadata": {
        "id": "QahdhsuJbwdA"
      }
    },
    {
      "cell_type": "code",
      "source": [
        "from sklearn.svm import LinearSVC\n",
        "\n",
        "modelo = LinearSVC()\n",
        "modelo.fit(dados, classes)\n",
        "\n",
        "animal_misterioso = [0, 0, 0]\n",
        "modelo.predict([animal_misterioso])"
      ],
      "metadata": {
        "colab": {
          "base_uri": "https://localhost:8080/"
        },
        "id": "9BeVBRqJbvsb",
        "outputId": "8ae7ae69-efad-41a3-e875-5c5291d77d82"
      },
      "execution_count": null,
      "outputs": [
        {
          "output_type": "execute_result",
          "data": {
            "text/plain": [
              "array([1])"
            ]
          },
          "metadata": {},
          "execution_count": 3
        }
      ]
    },
    {
      "cell_type": "markdown",
      "source": [
        "Em seguida, definimos três novos animais com características diferentes e utilizamos o modelo treinado para fazer previsões sobre esses animais. Compararemos essas previsões com as classes reais para avaliar a performance do modelo."
      ],
      "metadata": {
        "id": "0KECDAJsceoR"
      }
    },
    {
      "cell_type": "code",
      "source": [
        "misterio1 = [1, 1, 1]\n",
        "misterio2 = [1, 1, 0]\n",
        "misterio3 = [0, 1, 1]\n",
        "\n",
        "testes = [misterio1, misterio2, misterio3]\n",
        "previsoes = modelo.predict(testes)\n",
        "\n",
        "testes_classes = [0, 1, 1]"
      ],
      "metadata": {
        "id": "M2yklp1FceWC"
      },
      "execution_count": null,
      "outputs": []
    },
    {
      "cell_type": "markdown",
      "source": [
        "Calculamos a acurácia manualmente comparando as previsões com as classes reais. A acurácia é a proporção de previsões corretas em relação ao total de previsões."
      ],
      "metadata": {
        "id": "TCtM1moUczpo"
      }
    },
    {
      "cell_type": "code",
      "source": [
        "corretos = (previsoes == testes_classes).sum()\n",
        "total = len(testes)\n",
        "taxa_de_acerto = corretos / total * 100\n",
        "\n",
        "print(f\"Acurácia: {taxa_de_acerto:.2f}%\")"
      ],
      "metadata": {
        "colab": {
          "base_uri": "https://localhost:8080/"
        },
        "id": "4bb1mXb3cz-K",
        "outputId": "c81c4d12-2d98-4fc2-9a1f-30ba8076c502"
      },
      "execution_count": null,
      "outputs": [
        {
          "output_type": "stream",
          "name": "stdout",
          "text": [
            "Acurácia: 66.67%\n"
          ]
        }
      ]
    },
    {
      "cell_type": "markdown",
      "source": [
        "Por fim, utilizamos a função accuracy_score do scikit-learn para calcular a acurácia de maneira mais direta e robusta, que confirma os nossos cálculos manuais."
      ],
      "metadata": {
        "id": "GDRv_IsVdJc4"
      }
    },
    {
      "cell_type": "code",
      "source": [
        "from sklearn.metrics import accuracy_score\n",
        "\n",
        "taxa_de_acerto = accuracy_score(testes_classes, previsoes) * 100\n",
        "print(f\"Acurácia: {taxa_de_acerto:.2f}%\")"
      ],
      "metadata": {
        "id": "hooyUqw1dKfZ"
      },
      "execution_count": null,
      "outputs": []
    },
    {
      "cell_type": "markdown",
      "source": [
        "\n",
        "1. Conceituar o que é aprendizado supervisionado e classificação binária;\n",
        "2. Utilizar as características dos itens na definição de classes e estimar as classes de novos itens utilizando estimadores;\n",
        "3. Aplicar a biblioteca scikit-learn e a classe LinearSVC para criar um estimador;\n",
        "4. Calcular a acurácia do modelo utilizando a função accuracy_score.\n",
        "\n"
      ],
      "metadata": {
        "id": "j6wqJQVBdpp5"
      }
    }
  ]
}